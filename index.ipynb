{
 "cells": [
  {
   "cell_type": "code",
   "execution_count": 1,
   "metadata": {},
   "outputs": [],
   "source": [
    "import pyautogui as at\n",
    "import time\n",
    "from selenium import webdriver\n",
    "from selenium.webdriver.common.by import By\n",
    "from selenium.webdriver.common.keys import Keys \n",
    "import pandas as pd\n",
    "import requests\n",
    "import bs4"
   ]
  },
  {
   "cell_type": "code",
   "execution_count": 2,
   "metadata": {},
   "outputs": [
    {
     "name": "stderr",
     "output_type": "stream",
     "text": [
      "<>:4: SyntaxWarning: invalid escape sequence '\\V'\n",
      "<>:4: SyntaxWarning: invalid escape sequence '\\V'\n",
      "C:\\Users\\Passa\\AppData\\Local\\Temp\\ipykernel_14640\\337097815.py:4: SyntaxWarning: invalid escape sequence '\\V'\n",
      "  download_path = \"D:\\VScode\\github\\peenutty-1688\\filses_download\"\n"
     ]
    }
   ],
   "source": [
    "class webdriverGet():\n",
    "    extension_path1 = './LogPrograme/3.0.8_0.crx'\n",
    "    extension_path2 = './LogPrograme/13.0.10_0.crx'\n",
    "    download_path = \"D:\\VScode\\github\\peenutty-1688\\filses_download\"\n",
    "    def __init__(self):\n",
    "        try:\n",
    "            self.web_options = webdriver.ChromeOptions()\n",
    "            self.web_options.add_extension(self.extension_path1)\n",
    "            self.web_options.add_extension(self.extension_path2)\n",
    "            self.web_options.add_experimental_option(\"prefs\", {\n",
    "                \"download.default_directory\": self.download_path,\n",
    "                \"download.prompt_for_download\": False,\n",
    "                \"download.directory_upgrade\": True,\n",
    "                \"safebrowsing.enabled\": True\n",
    "            })\n",
    "        except:\n",
    "            return {\"message\":\"error set Webdriver\",\"status\":404}\n",
    "    \n",
    "    def login_1688(self):\n",
    "        def click_google():\n",
    "            while(True):\n",
    "                try:\n",
    "                    self.driver.switch_to.window(self.driver.window_handles[0])\n",
    "                    self.driver.find_element(By.XPATH,f\"/html/body/div[1]/div/div/div[2]/section/div[2]/a[3]/figure\").click()\n",
    "                    return 200\n",
    "                except: pass\n",
    "        def write_email():\n",
    "            while(True):\n",
    "                try:\n",
    "                    self.driver.find_element(By.XPATH,f'//*[@id=\"identifierId\"]').send_keys(self.my_email+Keys.ENTER)\n",
    "                    return 200\n",
    "                except: pass\n",
    "        def write_password():\n",
    "            while(True):\n",
    "                try:\n",
    "                    self.driver.find_element(By.XPATH,f'//*[@id=\"password\"]/div[1]/div/div[1]/input').send_keys(self.my_password+Keys.ENTER)\n",
    "                    return 200\n",
    "                except:pass\n",
    "        click_google()\n",
    "        time.sleep(3)\n",
    "        write_email()\n",
    "        time.sleep(3)\n",
    "        write_password()\n",
    "        return {\"status\": 200}\n",
    "\n",
    "    def open(self):\n",
    "        try:\n",
    "            self.driver = webdriver.Chrome(options=self.web_options)\n",
    "        except:\n",
    "            return {\"message\":\"error open webdriver\",\"status\":404}\n",
    "    \n",
    "    def closeTab(self):\n",
    "        tab = self.driver.window_handles\n",
    "        count_tab = len(tab)\n",
    "        if(count_tab>1):\n",
    "            for i in range(count_tab-1,0,-1):\n",
    "                self.driver.switch_to.window(self.driver.window_handles[i])\n",
    "                self.driver.execute_script(\"window.close();\")\n",
    "\n",
    "    def ToLink(self,url):\n",
    "        try:\n",
    "            self.driver.switch_to.window(self.driver.window_handles[0])\n",
    "            self.driver.get(url=url)\n",
    "        except:\n",
    "            return {\"message\":\"error get Url\",\"status\":404}\n",
    "        \n",
    "    def close(self):\n",
    "        try:\n",
    "            self.driver.quit()\n",
    "        except:\n",
    "            return {\"message\":\"error close webdriver\",\"status\":404}\n",
    "\n",
    "    def checkZero(self,_time):\n",
    "        try:\n",
    "            # select 0 \n",
    "            self.driver.switch_to.window(self.driver.window_handles[-1])\n",
    "            self.data = self.driver.page_source\n",
    "            self.soup = bs4.BeautifulSoup(self.data)\n",
    "            for i in range(20,0,-1):\n",
    "                time.sleep(_time)\n",
    "                self.get_number = self.soup.select_one(f'body > div > div > div > div.ap-page__bd > div > div.ap-compare-products__bd > div > table > tbody:nth-child(3) > tr:nth-child(3) > td:nth-child({i+1}) > div')\n",
    "                try:\n",
    "                    if int(self.get_number.text) == 0:\n",
    "                        self.driver.find_element(By.XPATH,f\"/html/body/div/div/div/div[2]/div/div[2]/div/table/thead/tr/th[{i+1}]/div[3]\").click()\n",
    "                except:\n",
    "                    return {\"message\":\"ไม่พบสินค้า...\",\"status\":200}\n",
    "            return {\"message\":\"เช็ค 0 สินค้าสำเร็จ\",\"status\":200}\n",
    "        except:\n",
    "            return {\"message\":\"ไม่พบหน้าที่ต้องการให้เช็ค 0\",\"status\":404}\n",
    "        \n",
    "    def select_item20(self,_time):\n",
    "        try:\n",
    "            # set web index 0\n",
    "            self.driver.switch_to.window(self.driver.window_handles[0])\n",
    "            # click 20 item\n",
    "            for index in range(20):\n",
    "                time.sleep(_time)\n",
    "                self.driver.find_element(By.XPATH,f'//*[@id=\"ap-sbi-alibabaCN-result\"]/div/div[2]/div/div[1]/div[2]/div/div/div/div/div[{index+1}]/div/div[10]').click()\n",
    "                self.element = self.driver.find_element(By.XPATH, f'//*[@id=\"ap-sbi-alibabaCN-result\"]/div/div[2]/div/div[1]/div[2]/div/div/div/div/div[{index+2}]')\n",
    "                self.driver.execute_script(\"arguments[0].scrollIntoView();\", self.element)\n",
    "            time.sleep(_time)\n",
    "        except:\n",
    "            return {\"message\":\"error select item\",\"status\":404}\n",
    "\n",
    "    def DownloadExcel(self):\n",
    "        try:\n",
    "            # \n",
    "            # download excel\n",
    "            self.driver.find_element(By.XPATH,'/html/body/div/div/div/div[2]/div/div[1]/div/div').click()\n",
    "        except:\n",
    "            return {\"message\":\"error Download file\",\"status\":404}\n",
    "    \n",
    "    def saveUrl(self,name):\n",
    "        try:\n",
    "            self.driver.switch_to.window(self.driver.window_handles[-1])\n",
    "            open(f'{name}.txt','w',encoding='utf-8').write(self.driver.current_url)\n",
    "        except:pass"
   ]
  },
  {
   "cell_type": "markdown",
   "metadata": {},
   "source": [
    "หลังจากที่เปิดเว็บให้ทำการล็อคอิน 1688 ก่อนถึงจะสามารถใช้งานต่อได้"
   ]
  },
  {
   "cell_type": "code",
   "execution_count": 11,
   "metadata": {},
   "outputs": [
    {
     "name": "stderr",
     "output_type": "stream",
     "text": [
      "<>:3: SyntaxWarning: invalid escape sequence '\\V'\n",
      "<>:3: SyntaxWarning: invalid escape sequence '\\V'\n",
      "C:\\Users\\Passa\\AppData\\Local\\Temp\\ipykernel_27200\\3666168345.py:3: SyntaxWarning: invalid escape sequence '\\V'\n",
      "  download_path = \"D:\\VScode\\github\\peenutty-1688\\filses_download\"\n"
     ]
    }
   ],
   "source": [
    "extension_path1 = './LogPrograme/3.0.8_0.crx'\n",
    "extension_path2 = './LogPrograme/13.0.10_0.crx'\n",
    "download_path = \"D:\\VScode\\github\\peenutty-1688\\filses_download\"\n",
    "web_options = webdriver.ChromeOptions()\n",
    "web_options.add_extension(extension_path1)\n",
    "web_options.add_extension(extension_path2)\n",
    "web_options.add_experimental_option(\"prefs\", {\n",
    "    \"download.default_directory\": download_path,\n",
    "    \"download.prompt_for_download\": False,\n",
    "    \"download.directory_upgrade\": True,\n",
    "    \"safebrowsing.enabled\": True\n",
    "})\n",
    "driver = webdriver.Chrome(options=web_options)\n",
    "driver.get('https://www.aliprice.com/Member/login.html?ext_id=10100&platform=1688&version=3.0.8&browser=chrome&channel=chrome&mv=3&redirect=https%3A%2F%2Fwww.1688.com')"
   ]
  },
  {
   "cell_type": "code",
   "execution_count": 54,
   "metadata": {},
   "outputs": [],
   "source": [
    "# Login 1688\n",
    "# email : tmhumr1frz2vjv7nf1i62lc@sharklasers.com\n",
    "# password : passapol47"
   ]
  },
  {
   "cell_type": "code",
   "execution_count": 12,
   "metadata": {},
   "outputs": [],
   "source": [
    "# driver.window_handles\n",
    "driver.switch_to.window(driver.window_handles[-1])\n",
    "driver.execute_script(\"window.close();\")\n",
    "time.sleep(1)\n",
    "driver.switch_to.window(driver.window_handles[-1])\n",
    "driver.execute_script(\"window.close();\")\n",
    "driver.switch_to.window(driver.window_handles[0])"
   ]
  },
  {
   "cell_type": "code",
   "execution_count": null,
   "metadata": {},
   "outputs": [],
   "source": [
    "driver.get('chrome-extension://lenipkahddombkldhfmcnnjakmcepdlk/options.html')"
   ]
  },
  {
   "cell_type": "code",
   "execution_count": 13,
   "metadata": {},
   "outputs": [],
   "source": [
    "url = 'http://localhost:3030/'\n",
    "img = 'https://down-th.img.susercontent.com/file/th-11134207-7r98z-lo1hlrzwom7b75'\n",
    "driver.get(f'{url}?url={img}')"
   ]
  },
  {
   "cell_type": "code",
   "execution_count": 14,
   "metadata": {},
   "outputs": [],
   "source": [
    "position_img = (450,494)\n",
    "downcount = 8\n",
    "at.click(position_img)\n",
    "at.rightClick()\n",
    "time.sleep(1)\n",
    "for i in range(downcount):\n",
    "    at.press('down')\n",
    "at.press('enter')\n",
    "at.press('enter')"
   ]
  },
  {
   "cell_type": "code",
   "execution_count": 15,
   "metadata": {},
   "outputs": [
    {
     "ename": "NoSuchElementException",
     "evalue": "Message: no such element: Unable to locate element: {\"method\":\"xpath\",\"selector\":\"//*[@id=\"ap-sbi-alibabaCN-result\"]/div/div[2]/div/div[1]/div[2]/div/div/div/div/div[1]/div/div[10]\"}\n  (Session info: chrome=121.0.6167.185); For documentation on this error, please visit: https://www.selenium.dev/documentation/webdriver/troubleshooting/errors#no-such-element-exception\nStacktrace:\n\tGetHandleVerifier [0x00007FF6FF417012+3522402]\n\t(No symbol) [0x00007FF6FF038352]\n\t(No symbol) [0x00007FF6FEEE5ABB]\n\t(No symbol) [0x00007FF6FEF2BF0E]\n\t(No symbol) [0x00007FF6FEF2C08C]\n\t(No symbol) [0x00007FF6FEF6E437]\n\t(No symbol) [0x00007FF6FEF4F09F]\n\t(No symbol) [0x00007FF6FEF6BDA3]\n\t(No symbol) [0x00007FF6FEF4EE03]\n\t(No symbol) [0x00007FF6FEF1F4D4]\n\t(No symbol) [0x00007FF6FEF205F1]\n\tGetHandleVerifier [0x00007FF6FF449B9D+3730157]\n\tGetHandleVerifier [0x00007FF6FF49F02D+4079485]\n\tGetHandleVerifier [0x00007FF6FF4975D3+4048163]\n\tGetHandleVerifier [0x00007FF6FF16A649+718233]\n\t(No symbol) [0x00007FF6FF044A3F]\n\t(No symbol) [0x00007FF6FF03FA94]\n\t(No symbol) [0x00007FF6FF03FBC2]\n\t(No symbol) [0x00007FF6FF02F2E4]\n\tBaseThreadInitThunk [0x00007FFB20F1257D+29]\n\tRtlUserThreadStart [0x00007FFB2194AA58+40]\n",
     "output_type": "error",
     "traceback": [
      "\u001b[1;31m---------------------------------------------------------------------------\u001b[0m",
      "\u001b[1;31mNoSuchElementException\u001b[0m                    Traceback (most recent call last)",
      "Cell \u001b[1;32mIn[15], line 3\u001b[0m\n\u001b[0;32m      1\u001b[0m driver\u001b[38;5;241m.\u001b[39mswitch_to\u001b[38;5;241m.\u001b[39mwindow(driver\u001b[38;5;241m.\u001b[39mwindow_handles[\u001b[38;5;241m0\u001b[39m])\n\u001b[0;32m      2\u001b[0m \u001b[38;5;28;01mfor\u001b[39;00m index \u001b[38;5;129;01min\u001b[39;00m \u001b[38;5;28mrange\u001b[39m(\u001b[38;5;241m20\u001b[39m):\n\u001b[1;32m----> 3\u001b[0m     \u001b[43mdriver\u001b[49m\u001b[38;5;241;43m.\u001b[39;49m\u001b[43mfind_element\u001b[49m\u001b[43m(\u001b[49m\u001b[43mBy\u001b[49m\u001b[38;5;241;43m.\u001b[39;49m\u001b[43mXPATH\u001b[49m\u001b[43m,\u001b[49m\u001b[38;5;124;43mf\u001b[39;49m\u001b[38;5;124;43m'\u001b[39;49m\u001b[38;5;124;43m//*[@id=\u001b[39;49m\u001b[38;5;124;43m\"\u001b[39;49m\u001b[38;5;124;43map-sbi-alibabaCN-result\u001b[39;49m\u001b[38;5;124;43m\"\u001b[39;49m\u001b[38;5;124;43m]/div/div[2]/div/div[1]/div[2]/div/div/div/div/div[\u001b[39;49m\u001b[38;5;132;43;01m{\u001b[39;49;00m\u001b[43mindex\u001b[49m\u001b[38;5;241;43m+\u001b[39;49m\u001b[38;5;241;43m1\u001b[39;49m\u001b[38;5;132;43;01m}\u001b[39;49;00m\u001b[38;5;124;43m]/div/div[10]\u001b[39;49m\u001b[38;5;124;43m'\u001b[39;49m\u001b[43m)\u001b[49m\u001b[38;5;241m.\u001b[39mclick()\n\u001b[0;32m      4\u001b[0m     element \u001b[38;5;241m=\u001b[39m driver\u001b[38;5;241m.\u001b[39mfind_element(By\u001b[38;5;241m.\u001b[39mXPATH, \u001b[38;5;124mf\u001b[39m\u001b[38;5;124m'\u001b[39m\u001b[38;5;124m//*[@id=\u001b[39m\u001b[38;5;124m\"\u001b[39m\u001b[38;5;124map-sbi-alibabaCN-result\u001b[39m\u001b[38;5;124m\"\u001b[39m\u001b[38;5;124m]/div/div[2]/div/div[1]/div[2]/div/div/div/div/div[\u001b[39m\u001b[38;5;132;01m{\u001b[39;00mindex\u001b[38;5;241m+\u001b[39m\u001b[38;5;241m2\u001b[39m\u001b[38;5;132;01m}\u001b[39;00m\u001b[38;5;124m]\u001b[39m\u001b[38;5;124m'\u001b[39m)\n\u001b[0;32m      5\u001b[0m     driver\u001b[38;5;241m.\u001b[39mexecute_script(\u001b[38;5;124m\"\u001b[39m\u001b[38;5;124marguments[0].scrollIntoView();\u001b[39m\u001b[38;5;124m\"\u001b[39m, element)\n",
      "File \u001b[1;32mc:\\Users\\Passa\\AppData\\Local\\Programs\\Python\\Python312\\Lib\\site-packages\\selenium\\webdriver\\remote\\webdriver.py:741\u001b[0m, in \u001b[0;36mWebDriver.find_element\u001b[1;34m(self, by, value)\u001b[0m\n\u001b[0;32m    738\u001b[0m     by \u001b[38;5;241m=\u001b[39m By\u001b[38;5;241m.\u001b[39mCSS_SELECTOR\n\u001b[0;32m    739\u001b[0m     value \u001b[38;5;241m=\u001b[39m \u001b[38;5;124mf\u001b[39m\u001b[38;5;124m'\u001b[39m\u001b[38;5;124m[name=\u001b[39m\u001b[38;5;124m\"\u001b[39m\u001b[38;5;132;01m{\u001b[39;00mvalue\u001b[38;5;132;01m}\u001b[39;00m\u001b[38;5;124m\"\u001b[39m\u001b[38;5;124m]\u001b[39m\u001b[38;5;124m'\u001b[39m\n\u001b[1;32m--> 741\u001b[0m \u001b[38;5;28;01mreturn\u001b[39;00m \u001b[38;5;28;43mself\u001b[39;49m\u001b[38;5;241;43m.\u001b[39;49m\u001b[43mexecute\u001b[49m\u001b[43m(\u001b[49m\u001b[43mCommand\u001b[49m\u001b[38;5;241;43m.\u001b[39;49m\u001b[43mFIND_ELEMENT\u001b[49m\u001b[43m,\u001b[49m\u001b[43m \u001b[49m\u001b[43m{\u001b[49m\u001b[38;5;124;43m\"\u001b[39;49m\u001b[38;5;124;43musing\u001b[39;49m\u001b[38;5;124;43m\"\u001b[39;49m\u001b[43m:\u001b[49m\u001b[43m \u001b[49m\u001b[43mby\u001b[49m\u001b[43m,\u001b[49m\u001b[43m \u001b[49m\u001b[38;5;124;43m\"\u001b[39;49m\u001b[38;5;124;43mvalue\u001b[39;49m\u001b[38;5;124;43m\"\u001b[39;49m\u001b[43m:\u001b[49m\u001b[43m \u001b[49m\u001b[43mvalue\u001b[49m\u001b[43m}\u001b[49m\u001b[43m)\u001b[49m[\u001b[38;5;124m\"\u001b[39m\u001b[38;5;124mvalue\u001b[39m\u001b[38;5;124m\"\u001b[39m]\n",
      "File \u001b[1;32mc:\\Users\\Passa\\AppData\\Local\\Programs\\Python\\Python312\\Lib\\site-packages\\selenium\\webdriver\\remote\\webdriver.py:347\u001b[0m, in \u001b[0;36mWebDriver.execute\u001b[1;34m(self, driver_command, params)\u001b[0m\n\u001b[0;32m    345\u001b[0m response \u001b[38;5;241m=\u001b[39m \u001b[38;5;28mself\u001b[39m\u001b[38;5;241m.\u001b[39mcommand_executor\u001b[38;5;241m.\u001b[39mexecute(driver_command, params)\n\u001b[0;32m    346\u001b[0m \u001b[38;5;28;01mif\u001b[39;00m response:\n\u001b[1;32m--> 347\u001b[0m     \u001b[38;5;28;43mself\u001b[39;49m\u001b[38;5;241;43m.\u001b[39;49m\u001b[43merror_handler\u001b[49m\u001b[38;5;241;43m.\u001b[39;49m\u001b[43mcheck_response\u001b[49m\u001b[43m(\u001b[49m\u001b[43mresponse\u001b[49m\u001b[43m)\u001b[49m\n\u001b[0;32m    348\u001b[0m     response[\u001b[38;5;124m\"\u001b[39m\u001b[38;5;124mvalue\u001b[39m\u001b[38;5;124m\"\u001b[39m] \u001b[38;5;241m=\u001b[39m \u001b[38;5;28mself\u001b[39m\u001b[38;5;241m.\u001b[39m_unwrap_value(response\u001b[38;5;241m.\u001b[39mget(\u001b[38;5;124m\"\u001b[39m\u001b[38;5;124mvalue\u001b[39m\u001b[38;5;124m\"\u001b[39m, \u001b[38;5;28;01mNone\u001b[39;00m))\n\u001b[0;32m    349\u001b[0m     \u001b[38;5;28;01mreturn\u001b[39;00m response\n",
      "File \u001b[1;32mc:\\Users\\Passa\\AppData\\Local\\Programs\\Python\\Python312\\Lib\\site-packages\\selenium\\webdriver\\remote\\errorhandler.py:229\u001b[0m, in \u001b[0;36mErrorHandler.check_response\u001b[1;34m(self, response)\u001b[0m\n\u001b[0;32m    227\u001b[0m         alert_text \u001b[38;5;241m=\u001b[39m value[\u001b[38;5;124m\"\u001b[39m\u001b[38;5;124malert\u001b[39m\u001b[38;5;124m\"\u001b[39m]\u001b[38;5;241m.\u001b[39mget(\u001b[38;5;124m\"\u001b[39m\u001b[38;5;124mtext\u001b[39m\u001b[38;5;124m\"\u001b[39m)\n\u001b[0;32m    228\u001b[0m     \u001b[38;5;28;01mraise\u001b[39;00m exception_class(message, screen, stacktrace, alert_text)  \u001b[38;5;66;03m# type: ignore[call-arg]  # mypy is not smart enough here\u001b[39;00m\n\u001b[1;32m--> 229\u001b[0m \u001b[38;5;28;01mraise\u001b[39;00m exception_class(message, screen, stacktrace)\n",
      "\u001b[1;31mNoSuchElementException\u001b[0m: Message: no such element: Unable to locate element: {\"method\":\"xpath\",\"selector\":\"//*[@id=\"ap-sbi-alibabaCN-result\"]/div/div[2]/div/div[1]/div[2]/div/div/div/div/div[1]/div/div[10]\"}\n  (Session info: chrome=121.0.6167.185); For documentation on this error, please visit: https://www.selenium.dev/documentation/webdriver/troubleshooting/errors#no-such-element-exception\nStacktrace:\n\tGetHandleVerifier [0x00007FF6FF417012+3522402]\n\t(No symbol) [0x00007FF6FF038352]\n\t(No symbol) [0x00007FF6FEEE5ABB]\n\t(No symbol) [0x00007FF6FEF2BF0E]\n\t(No symbol) [0x00007FF6FEF2C08C]\n\t(No symbol) [0x00007FF6FEF6E437]\n\t(No symbol) [0x00007FF6FEF4F09F]\n\t(No symbol) [0x00007FF6FEF6BDA3]\n\t(No symbol) [0x00007FF6FEF4EE03]\n\t(No symbol) [0x00007FF6FEF1F4D4]\n\t(No symbol) [0x00007FF6FEF205F1]\n\tGetHandleVerifier [0x00007FF6FF449B9D+3730157]\n\tGetHandleVerifier [0x00007FF6FF49F02D+4079485]\n\tGetHandleVerifier [0x00007FF6FF4975D3+4048163]\n\tGetHandleVerifier [0x00007FF6FF16A649+718233]\n\t(No symbol) [0x00007FF6FF044A3F]\n\t(No symbol) [0x00007FF6FF03FA94]\n\t(No symbol) [0x00007FF6FF03FBC2]\n\t(No symbol) [0x00007FF6FF02F2E4]\n\tBaseThreadInitThunk [0x00007FFB20F1257D+29]\n\tRtlUserThreadStart [0x00007FFB2194AA58+40]\n"
     ]
    }
   ],
   "source": [
    "driver.switch_to.window(driver.window_handles[0])\n",
    "for index in range(20):\n",
    "    driver.find_element(By.XPATH,f'//*[@id=\"ap-sbi-alibabaCN-result\"]/div/div[2]/div/div[1]/div[2]/div/div/div/div/div[{index+1}]/div/div[10]').click()\n",
    "    element = driver.find_element(By.XPATH, f'//*[@id=\"ap-sbi-alibabaCN-result\"]/div/div[2]/div/div[1]/div[2]/div/div/div/div/div[{index+2}]')\n",
    "    driver.execute_script(\"arguments[0].scrollIntoView();\", element)"
   ]
  },
  {
   "cell_type": "code",
   "execution_count": 16,
   "metadata": {},
   "outputs": [],
   "source": [
    "position_clicknext = (975,1002)\n",
    "at.click(position_clicknext)\n",
    "time.sleep(30);"
   ]
  },
  {
   "cell_type": "code",
   "execution_count": 62,
   "metadata": {},
   "outputs": [],
   "source": [
    "driver.find_element(By.XPATH,'/html/body/div/div/div/div[2]/div/div[1]/div/div').click()"
   ]
  }
 ],
 "metadata": {
  "kernelspec": {
   "display_name": "Python 3",
   "language": "python",
   "name": "python3"
  },
  "language_info": {
   "codemirror_mode": {
    "name": "ipython",
    "version": 3
   },
   "file_extension": ".py",
   "mimetype": "text/x-python",
   "name": "python",
   "nbconvert_exporter": "python",
   "pygments_lexer": "ipython3",
   "version": "3.12.0"
  }
 },
 "nbformat": 4,
 "nbformat_minor": 2
}
