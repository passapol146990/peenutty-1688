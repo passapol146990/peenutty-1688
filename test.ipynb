{
 "cells": [
  {
   "cell_type": "code",
   "execution_count": 1,
   "metadata": {},
   "outputs": [],
   "source": [
    "import pyautogui as at\n",
    "import time\n",
    "from selenium import webdriver\n",
    "from selenium.webdriver.common.by import By\n",
    "from selenium.webdriver.common.keys import Keys \n",
    "import pandas as pd\n",
    "import requests\n",
    "import bs4"
   ]
  },
  {
   "cell_type": "code",
   "execution_count": 3,
   "metadata": {},
   "outputs": [
    {
     "name": "stderr",
     "output_type": "stream",
     "text": [
      "<>:4: SyntaxWarning: invalid escape sequence '\\V'\n",
      "<>:4: SyntaxWarning: invalid escape sequence '\\V'\n",
      "C:\\Users\\Passa\\AppData\\Local\\Temp\\ipykernel_2660\\337097815.py:4: SyntaxWarning: invalid escape sequence '\\V'\n",
      "  download_path = \"D:\\VScode\\github\\peenutty-1688\\filses_download\"\n"
     ]
    }
   ],
   "source": [
    "class webdriverGet():\n",
    "    extension_path1 = './LogPrograme/3.0.8_0.crx'\n",
    "    extension_path2 = './LogPrograme/13.0.10_0.crx'\n",
    "    download_path = \"D:\\VScode\\github\\peenutty-1688\\filses_download\"\n",
    "    my_email = \"66011212067@msu.ac.th\"\n",
    "    my_password = \"146990aA\"\n",
    "    def __init__(self):\n",
    "        try:\n",
    "            self.web_options = webdriver.ChromeOptions()\n",
    "            self.web_options.add_extension(self.extension_path1)\n",
    "            self.web_options.add_extension(self.extension_path2)\n",
    "            self.web_options.add_experimental_option(\"prefs\", {\n",
    "                \"download.default_directory\": self.download_path,\n",
    "                \"download.prompt_for_download\": False,\n",
    "                \"download.directory_upgrade\": True,\n",
    "                \"safebrowsing.enabled\": True\n",
    "            })\n",
    "        except:\n",
    "            return {\"message\":\"error set Webdriver\",\"status\":404}\n",
    "    \n",
    "    def login_1688(self):\n",
    "        def click_google():\n",
    "            while(True):\n",
    "                try:\n",
    "                    self.driver.switch_to.window(self.driver.window_handles[0])\n",
    "                    self.driver.find_element(By.XPATH,f\"/html/body/div[1]/div/div/div[2]/section/div[2]/a[3]/figure\").click()\n",
    "                    return 200\n",
    "                except: pass\n",
    "        def write_email():\n",
    "            while(True):\n",
    "                try:\n",
    "                    self.driver.find_element(By.XPATH,f'//*[@id=\"identifierId\"]').send_keys(self.my_email+Keys.ENTER)\n",
    "                    return 200\n",
    "                except: pass\n",
    "        def write_password():\n",
    "            while(True):\n",
    "                try:\n",
    "                    self.driver.find_element(By.XPATH,f'//*[@id=\"password\"]/div[1]/div/div[1]/input').send_keys(self.my_password+Keys.ENTER)\n",
    "                    return 200\n",
    "                except:pass\n",
    "        click_google()\n",
    "        time.sleep(3)\n",
    "        write_email()\n",
    "        time.sleep(3)\n",
    "        write_password()\n",
    "        return {\"status\": 200}\n",
    "\n",
    "    def open(self):\n",
    "        try:\n",
    "            self.driver = webdriver.Chrome(options=self.web_options)\n",
    "        except:\n",
    "            return {\"message\":\"error open webdriver\",\"status\":404}\n",
    "    \n",
    "    def closeTab(self):\n",
    "        tab = self.driver.window_handles\n",
    "        count_tab = len(tab)\n",
    "        if(count_tab>1):\n",
    "            for i in range(count_tab-1,0,-1):\n",
    "                self.driver.switch_to.window(self.driver.window_handles[i])\n",
    "                self.driver.execute_script(\"window.close();\")\n",
    "\n",
    "    def ToLink(self,url):\n",
    "        try:\n",
    "            self.driver.switch_to.window(self.driver.window_handles[0])\n",
    "            self.driver.get(url=url)\n",
    "        except:\n",
    "            return {\"message\":\"error get Url\",\"status\":404}\n",
    "        \n",
    "    def close(self):\n",
    "        try:\n",
    "            self.driver.quit()\n",
    "        except:\n",
    "            return {\"message\":\"error close webdriver\",\"status\":404}\n",
    "\n",
    "    def checkZero(self,_time):\n",
    "        try:\n",
    "            # select 0 \n",
    "            self.driver.switch_to.window(self.driver.window_handles[-1])\n",
    "            self.data = self.driver.page_source\n",
    "            self.soup = bs4.BeautifulSoup(self.data)\n",
    "            for i in range(20,0,-1):\n",
    "                time.sleep(_time)\n",
    "                self.get_number = self.soup.select_one(f'body > div > div > div > div.ap-page__bd > div > div.ap-compare-products__bd > div > table > tbody:nth-child(3) > tr:nth-child(3) > td:nth-child({i+1}) > div')\n",
    "                try:\n",
    "                    if int(self.get_number.text) == 0:\n",
    "                        self.driver.find_element(By.XPATH,f\"/html/body/div/div/div/div[2]/div/div[2]/div/table/thead/tr/th[{i+1}]/div[3]\").click()\n",
    "                except:\n",
    "                    return {\"message\":\"ไม่พบสินค้า...\",\"status\":200}\n",
    "            return {\"message\":\"เช็ค 0 สินค้าสำเร็จ\",\"status\":200}\n",
    "        except:\n",
    "            return {\"message\":\"ไม่พบหน้าที่ต้องการให้เช็ค 0\",\"status\":404}\n",
    "        \n",
    "    def select_item20(self,_time):\n",
    "        try:\n",
    "            # set web index 0\n",
    "            self.driver.switch_to.window(self.driver.window_handles[0])\n",
    "            # click 20 item\n",
    "            for index in range(20):\n",
    "                time.sleep(_time)\n",
    "                self.driver.find_element(By.XPATH,f'//*[@id=\"ap-sbi-alibabaCN-result\"]/div/div[2]/div/div[1]/div[2]/div/div/div/div/div[{index+1}]/div/div[10]').click()\n",
    "                self.element = self.driver.find_element(By.XPATH, f'//*[@id=\"ap-sbi-alibabaCN-result\"]/div/div[2]/div/div[1]/div[2]/div/div/div/div/div[{index+2}]')\n",
    "                self.driver.execute_script(\"arguments[0].scrollIntoView();\", self.element)\n",
    "            time.sleep(_time)\n",
    "        except:\n",
    "            return {\"message\":\"error select item\",\"status\":404}\n",
    "\n",
    "    def DownloadExcel(self):\n",
    "        try:\n",
    "            # \n",
    "            # download excel\n",
    "            self.driver.find_element(By.XPATH,'/html/body/div/div/div/div[2]/div/div[1]/div/div').click()\n",
    "        except:\n",
    "            return {\"message\":\"error Download file\",\"status\":404}\n",
    "    \n",
    "    def saveUrl(self,name):\n",
    "        try:\n",
    "            self.driver.switch_to.window(self.driver.window_handles[-1])\n",
    "            open(f'{name}.txt','w',encoding='utf-8').write(self.driver.current_url)\n",
    "        except:pass"
   ]
  },
  {
   "cell_type": "markdown",
   "metadata": {},
   "source": [
    "หลังจากที่เปิดเว็บให้ทำการล็อคอิน 1688 ก่อนถึงจะสามารถใช้งานต่อได้"
   ]
  },
  {
   "cell_type": "code",
   "execution_count": 4,
   "metadata": {},
   "outputs": [
    {
     "data": {
      "text/plain": [
       "{'status': 200}"
      ]
     },
     "execution_count": 4,
     "metadata": {},
     "output_type": "execute_result"
    }
   ],
   "source": [
    "web1 = webdriverGet()\n",
    "web1.open()\n",
    "# to path 1688 login\n",
    "url = \"https://www.aliprice.com/Member/login.html?ext_id=10100&platform=1688&version=3.0.8&browser=chrome&channel=chrome&mv=3&redirect=https%3A%2F%2Fwww.1688.com\"\n",
    "web1.ToLink(url)\n",
    "# click google login\n",
    "web1.login_1688()"
   ]
  },
  {
   "cell_type": "code",
   "execution_count": 6,
   "metadata": {},
   "outputs": [
    {
     "ename": "KeyboardInterrupt",
     "evalue": "",
     "output_type": "error",
     "traceback": [
      "\u001b[1;31m---------------------------------------------------------------------------\u001b[0m",
      "\u001b[1;31mKeyboardInterrupt\u001b[0m                         Traceback (most recent call last)",
      "Cell \u001b[1;32mIn[6], line 7\u001b[0m\n\u001b[0;32m      5\u001b[0m url \u001b[38;5;241m=\u001b[39m i2[\u001b[38;5;124m\"\u001b[39m\u001b[38;5;124mimage_product_1\u001b[39m\u001b[38;5;124m\"\u001b[39m]\n\u001b[0;32m      6\u001b[0m web1\u001b[38;5;241m.\u001b[39mToLink(url)\n\u001b[1;32m----> 7\u001b[0m \u001b[43mtime\u001b[49m\u001b[38;5;241;43m.\u001b[39;49m\u001b[43msleep\u001b[49m\u001b[43m(\u001b[49m\u001b[38;5;241;43m10\u001b[39;49m\u001b[43m)\u001b[49m\n",
      "\u001b[1;31mKeyboardInterrupt\u001b[0m: "
     ]
    }
   ],
   "source": [
    "uri = \"http://localhost:8080/getdb\"\n",
    "res = requests.get(uri).json()\n",
    "for i in res:\n",
    "    for i2 in i[\"data\"]:\n",
    "        url = i2[\"image_product_1\"]\n",
    "        web1.ToLink(url)\n",
    "        time.sleep(10)\n",
    "    "
   ]
  },
  {
   "cell_type": "code",
   "execution_count": null,
   "metadata": {},
   "outputs": [],
   "source": [
    "# close tab\n",
    "web1.closeTab()"
   ]
  },
  {
   "cell_type": "code",
   "execution_count": 52,
   "metadata": {},
   "outputs": [],
   "source": [
    "web1.select_item20(_time=0)"
   ]
  },
  {
   "cell_type": "code",
   "execution_count": 55,
   "metadata": {},
   "outputs": [
    {
     "data": {
      "text/plain": [
       "{'message': 'เช็ค 0 สินค้าสำเร็จ', 'status': 200}"
      ]
     },
     "execution_count": 55,
     "metadata": {},
     "output_type": "execute_result"
    }
   ],
   "source": [
    "web1.checkZero(_time=0)"
   ]
  },
  {
   "cell_type": "code",
   "execution_count": 56,
   "metadata": {},
   "outputs": [],
   "source": [
    "web1.DownloadExcel()"
   ]
  },
  {
   "cell_type": "code",
   "execution_count": null,
   "metadata": {},
   "outputs": [],
   "source": []
  }
 ],
 "metadata": {
  "kernelspec": {
   "display_name": "Python 3",
   "language": "python",
   "name": "python3"
  },
  "language_info": {
   "codemirror_mode": {
    "name": "ipython",
    "version": 3
   },
   "file_extension": ".py",
   "mimetype": "text/x-python",
   "name": "python",
   "nbconvert_exporter": "python",
   "pygments_lexer": "ipython3",
   "version": "3.12.0"
  }
 },
 "nbformat": 4,
 "nbformat_minor": 2
}
